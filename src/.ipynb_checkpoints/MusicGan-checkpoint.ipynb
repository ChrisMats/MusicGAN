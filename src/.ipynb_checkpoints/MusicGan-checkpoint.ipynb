{
 "cells": [
  {
   "cell_type": "code",
   "execution_count": 3,
   "metadata": {},
   "outputs": [],
   "source": [
    "import numpy as np\n",
    "import tensorflow as tf\n",
    "import matplotlib.pylab as plt\n",
    "\n",
    "import helpfuns as hf"
   ]
  },
  {
   "cell_type": "markdown",
   "metadata": {},
   "source": [
    "Import Data"
   ]
  },
  {
   "cell_type": "code",
   "execution_count": null,
   "metadata": {},
   "outputs": [],
   "source": []
  },
  {
   "cell_type": "markdown",
   "metadata": {},
   "source": [
    "Define Models"
   ]
  },
  {
   "cell_type": "code",
   "execution_count": 10,
   "metadata": {},
   "outputs": [],
   "source": [
    "def generator(inputs, is_training):\n",
    "    with tf.variable_scope('Generator'):\n",
    "            net = tf.layers.dense(inputs, \n",
    "                                     units=1024, \n",
    "                                     activation=tf.nn.relu, name=\"fc1\")\n",
    "            net = tf.reshape(net, [tf.shape(inputs)[0], 16, 1024], name=\"fc1_rs\")\n",
    "            net = conv1d_transpose(net,\n",
    "                                   filters=512,\n",
    "                                   kernel_width=25,\n",
    "                                   stride=4, \n",
    "                                   batchnorm = False,\n",
    "                                   is_training=is_training,\n",
    "                                   activation=tf.nn.relu,\n",
    "                                   scope=\"tc1\")\n",
    "            net = conv1d_transpose(net,\n",
    "                                   filters=256,\n",
    "                                   kernel_width=25,\n",
    "                                   stride=4, \n",
    "                                   batchnorm = False,\n",
    "                                   is_training=is_training,\n",
    "                                   activation=tf.nn.relu,\n",
    "                                   scope=\"tc2\")\n",
    "            net = conv1d_transpose(net,\n",
    "                                   filters=128,\n",
    "                                   kernel_width=25,\n",
    "                                   stride=4, \n",
    "                                   batchnorm = False,\n",
    "                                   activation=tf.nn.relu,\n",
    "                                   is_training=is_training,\n",
    "                                   scope=\"tc3\")\n",
    "            net = conv1d_transpose(net,\n",
    "                                   filters=64,\n",
    "                                   kernel_width=25,\n",
    "                                   stride=4, \n",
    "                                   batchnorm = False,\n",
    "                                   activation=tf.nn.relu,\n",
    "                                   is_training=is_training,\n",
    "                                   scope=\"tc4\")\n",
    "            net = conv1d_transpose(net,\n",
    "                                   filters=1,\n",
    "                                   kernel_width=25,\n",
    "                                   stride=4, \n",
    "                                   batchnorm = False,\n",
    "                                   activation=tf.nn.tanh,\n",
    "                                   is_training=is_training,\n",
    "                                   scope=\"tc4\")  \n",
    "            if is_training:\n",
    "                update_ops = tf.get_collection(tf.GraphKeys.UPDATE_OPS)\n",
    "            with tf.control_dependencies(update_ops):\n",
    "                net = tf.identity(net, name=\"Generator_OUTPUT\")\n",
    "            \n",
    "            return net\n",
    "\n",
    "def discriminator(inputs, is_training):\n",
    "    with tf.variable_scope('Discriminator'):\n",
    "        net = tf.layers.conv1d(inputs,\n",
    "                               filters=64, \n",
    "                               kernel_size=25, \n",
    "                               strides=4, \n",
    "                               padding='SAME',\n",
    "                               activation=tf.nn.leaky_relu,\n",
    "                               name=\"conv1\")\n",
    "        net = tf.layers.conv1d(inputs,\n",
    "                               filters=128, \n",
    "                               kernel_size=25, \n",
    "                               strides=4, \n",
    "                               padding='SAME',\n",
    "                               activation=tf.nn.leaky_relu,\n",
    "                               name=\"conv2\")\n",
    "        net = tf.layers.conv1d(inputs,\n",
    "                               filters=256, \n",
    "                               kernel_size=25, \n",
    "                               strides=4, \n",
    "                               padding='SAME',\n",
    "                               activation=tf.nn.leaky_relu,\n",
    "                               name=\"conv3\")\n",
    "        net = tf.layers.conv1d(inputs,\n",
    "                               filters=512, \n",
    "                               kernel_size=25, \n",
    "                               strides=4, \n",
    "                               padding='SAME',\n",
    "                               activation=tf.nn.leaky_relu,\n",
    "                               name=\"conv4\")\n",
    "        net = tf.layers.conv1d(inputs,\n",
    "                               filters=1024, \n",
    "                               kernel_size=25, \n",
    "                               strides=4, \n",
    "                               padding='SAME',\n",
    "                               activation=tf.nn.leaky_relu,\n",
    "                               name=\"conv5\")\n",
    "        net = tf.layers.flatten(net,name=\"flatten\")\n",
    "        net = tf.layers.dense(net, \n",
    "                              units=1,\n",
    "                              name=\"fc_out\")[:, 0]\n",
    "        net = tf.identity(net, name=\"Discriminator_OUTPUT\")\n",
    "        \n",
    "        return net"
   ]
  },
  {
   "cell_type": "code",
   "execution_count": null,
   "metadata": {},
   "outputs": [],
   "source": []
  },
  {
   "cell_type": "markdown",
   "metadata": {},
   "source": [
    "Define Gan Graph"
   ]
  },
  {
   "cell_type": "code",
   "execution_count": null,
   "metadata": {},
   "outputs": [],
   "source": []
  },
  {
   "cell_type": "markdown",
   "metadata": {},
   "source": [
    "Run training Session"
   ]
  },
  {
   "cell_type": "code",
   "execution_count": null,
   "metadata": {},
   "outputs": [],
   "source": []
  },
  {
   "cell_type": "markdown",
   "metadata": {},
   "source": [
    "Run results"
   ]
  },
  {
   "cell_type": "code",
   "execution_count": null,
   "metadata": {},
   "outputs": [],
   "source": []
  }
 ],
 "metadata": {
  "kernelspec": {
   "display_name": "Python 3",
   "language": "python",
   "name": "python3"
  },
  "language_info": {
   "codemirror_mode": {
    "name": "ipython",
    "version": 3
   },
   "file_extension": ".py",
   "mimetype": "text/x-python",
   "name": "python",
   "nbconvert_exporter": "python",
   "pygments_lexer": "ipython3",
   "version": "3.5.2"
  }
 },
 "nbformat": 4,
 "nbformat_minor": 2
}

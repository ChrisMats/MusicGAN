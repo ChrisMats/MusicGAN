{
 "cells": [
  {
   "cell_type": "code",
   "execution_count": 1,
   "metadata": {},
   "outputs": [],
   "source": [
    "import numpy as np\n",
    "import tensorflow as tf\n",
    "import matplotlib.pylab as plt\n",
    "\n",
    "import helpfuns as hf"
   ]
  },
  {
   "cell_type": "markdown",
   "metadata": {},
   "source": [
    "Data importing"
   ]
  },
  {
   "cell_type": "code",
   "execution_count": 8,
   "metadata": {},
   "outputs": [],
   "source": [
    "# Default parameters for data loading\n",
    "DEFAULT_SHUFFLE = True\n",
    "DATASET_SIZE = 23666\n",
    "MINI_BATCH_SIZE = 5\n",
    "EPOCHS = 1"
   ]
  },
  {
   "cell_type": "code",
   "execution_count": 9,
   "metadata": {},
   "outputs": [],
   "source": [
    "# Directory paths for data loading\n",
    "tr_data_dir = '../../SC09_Preprocessed/'\n",
    "tfrecords_fname = 'train.tfrecords'"
   ]
  },
  {
   "cell_type": "code",
   "execution_count": 15,
   "metadata": {},
   "outputs": [
    {
     "data": {
      "text/plain": [
       "' Example code for using the iterator for one epoch\\nwith tf.Session() as sess:\\n    # Get a random mini-batch 10000 times\\n    for i in range(10000):\\n        x = sess.run(xs)\\n        samples = x[0] # Array with MINI_BATCH_SIZE samples\\n        labels = x[1] # Label of each sample\\n'"
      ]
     },
     "execution_count": 15,
     "metadata": {},
     "output_type": "execute_result"
    }
   ],
   "source": [
    "def _mapper(example_proto):\n",
    "    features = {\n",
    "        'signal' : tf.FixedLenSequenceFeature([1], tf.string, allow_missing = True),\n",
    "        'label': tf.FixedLenSequenceFeature([], tf.string, allow_missing = True)\n",
    "    }\n",
    "    example = tf.parse_single_example(example_proto, features)\n",
    "    \n",
    "    signal = tf.decode_raw(example['signal'], tf.float32)\n",
    "    label = tf.reduce_join(example['label'], 0)\n",
    "        \n",
    "    return signal, label\n",
    "\n",
    "    \n",
    "dataset = tf.data.TFRecordDataset([tr_data_dir + tfrecords_fname])\n",
    "# Repeat dataset indefinitely\n",
    "dataset = dataset.repeat()\n",
    "# Shuffle the dataset\n",
    "dataset = dataset.shuffle(buffer_size = dataset_length)\n",
    "# Extract features from inputs\n",
    "dataset = dataset.map(_mapper)\n",
    "# Drop remainder samples so that all mini batches have the same size\n",
    "dataset = dataset.apply(tf.contrib.data.batch_and_drop_remainder(MINI_BATCH_SIZE))\n",
    "# Get one shot iterator to iterate over mini-batches\n",
    "xs = dataset.make_one_shot_iterator().get_next() \n",
    "\n",
    "''' Example code for using the iterator for one epoch\n",
    "with tf.Session() as sess:\n",
    "    # Get a random mini-batch 10000 times\n",
    "    for i in range(10000):\n",
    "        x = sess.run(xs)\n",
    "        samples = x[0] # Array with MINI_BATCH_SIZE samples\n",
    "        labels = x[1] # Label of each sample\n",
    "'''"
   ]
  },
  {
   "cell_type": "markdown",
   "metadata": {},
   "source": [
    "Define Models"
   ]
  },
  {
   "cell_type": "code",
   "execution_count": 4,
   "metadata": {},
   "outputs": [],
   "source": [
    "def PhaseShuffle(net, scope=None):\n",
    "    \"\"\"randomly perturbs the phase of each layer’s activations \n",
    "    by −2 to 2 samples before input to the next layer. \n",
    "    We use reflection padding to fill in the the missing samples\"\"\"\n",
    "    rand_phase = tf.random_uniform([], \n",
    "                              minval=-2, \n",
    "                              maxval=2 + 1, \n",
    "                              dtype=tf.int32,\n",
    "                              name=\"rand_sampling\")\n",
    "    pading_scheme = [[0, 0], [ tf.maximum(rand_phase, 0), tf.maximum(-rand_phase, 0)], [0, 0]]\n",
    "    org_dims = net.get_shape().as_list()\n",
    "    net = tf.pad(net,\n",
    "                 paddings=pading_scheme,\n",
    "                 mode='REFLECT',\n",
    "                 name=\"refl_pading\")[:, tf.maximum(-rand_phase, 0):tf.maximum(-rand_phase, 0)+org_dims[1]]\n",
    "    net.set_shape(org_dims)\n",
    "    net = tf.identity(net, name=scope+\"_PhaseShuffle\")\n",
    "    return net\n",
    "\n",
    "# Deconvolution Opperation\n",
    "def conv1d_transpose(inputs,filters,kernel_width=25,stride=4,activation=tf.nn.relu,batchnorm = False,is_training=True,scope=None):\n",
    "\n",
    "    net = tf.layers.conv2d_transpose(\n",
    "        tf.expand_dims(inputs, axis=1),\n",
    "        filters=filters,\n",
    "        kernel_size=(1, kernel_width),\n",
    "        strides=(1, stride),\n",
    "        padding='SAME',\n",
    "        activation=None,\n",
    "        name=scope+\"_conv1d\")[:, 0]\n",
    "\n",
    "    if batchnorm:\n",
    "        net = tf.layers.batch_normalization(net, training=is_training, fused=True, name=scope+\"_BN\")\n",
    "        net = activation(net, name=scope+\"_act\")\n",
    "    else:\n",
    "        net = activation(net, name=scope+\"_actv\")\n",
    "    return net\n",
    "\n",
    "def add_special_layers(net,scope=None, is_training=True, batchnorm=True, activation=None, shuffle=True):\n",
    "    if shuffle:\n",
    "        net = PhaseShuffle(net, scope=scope)\n",
    "    if batchnorm:\n",
    "        net = tf.layers.batch_normalization(net, training=is_training, fused=True, name=scope+\"_BN\")\n",
    "    if activation != None:\n",
    "        net = activation(net, name=scope+\"_actv\")\n",
    "    return net"
   ]
  },
  {
   "cell_type": "code",
   "execution_count": 5,
   "metadata": {},
   "outputs": [],
   "source": [
    "def generator(inputs, is_training):\n",
    "    with tf.variable_scope('Generator'):\n",
    "            net = tf.layers.dense(inputs,\n",
    "                                  units=1024,\n",
    "                                  kernel_initializer=None,\n",
    "                                  name=\"fc1\")\n",
    "            net = tf.layers.batch_normalization(net, training=is_training, fused=True, name=\"fc1_BN\")\n",
    "            net = tf.nn.relu(net, name=\"fc1_ReLu\")\n",
    "            net = tf.reshape(net, [tf.shape(inputs)[0], 16, 1024], name=\"fc1_rs\")\n",
    "            net = conv1d_transpose(net,\n",
    "                                   filters=512,\n",
    "                                   kernel_width=25,\n",
    "                                   stride=4, \n",
    "                                   batchnorm = True,\n",
    "                                   is_training=is_training,\n",
    "                                   scope=\"tc1\")\n",
    "            net = conv1d_transpose(net,\n",
    "                                   filters=256,\n",
    "                                   kernel_width=25,\n",
    "                                   stride=4, \n",
    "                                   batchnorm = True,\n",
    "                                   is_training=is_training,\n",
    "                                   activation=tf.nn.relu,\n",
    "                                   scope=\"tc2\")\n",
    "            net = conv1d_transpose(net,\n",
    "                                   filters=128,\n",
    "                                   kernel_width=25,\n",
    "                                   stride=4, \n",
    "                                   batchnorm = True,\n",
    "                                   activation=tf.nn.relu,\n",
    "                                   is_training=is_training,\n",
    "                                   scope=\"tc3\")\n",
    "            net = conv1d_transpose(net,\n",
    "                                   filters=64,\n",
    "                                   kernel_width=25,\n",
    "                                   stride=4, \n",
    "                                   batchnorm = True,\n",
    "                                   activation=tf.nn.relu,\n",
    "                                   is_training=is_training,\n",
    "                                   scope=\"tc4\")\n",
    "            net = conv1d_transpose(net,\n",
    "                                   filters=1,\n",
    "                                   kernel_width=25,\n",
    "                                   stride=4, \n",
    "                                   batchnorm = True,\n",
    "                                   activation=tf.nn.tanh,\n",
    "                                   is_training=is_training,\n",
    "                                   scope=\"tc5\")  \n",
    "            if is_training:\n",
    "                update_ops = tf.get_collection(tf.GraphKeys.UPDATE_OPS)\n",
    "            with tf.control_dependencies(update_ops):\n",
    "                net = tf.identity(net, name=\"Generator_OUTPUT\")\n",
    "            \n",
    "            return net\n",
    "\n",
    "def discriminator(inputs, is_training):\n",
    "    with tf.variable_scope('Discriminator'):\n",
    "        net = tf.layers.conv1d(inputs,\n",
    "                               filters=64, \n",
    "                               kernel_size=25, \n",
    "                               strides=4, \n",
    "                               padding='SAME',\n",
    "                               kernel_initializer=None,\n",
    "                               name=\"conv1\")\n",
    "        net = add_special_layers(net, \n",
    "                                 scope=\"conv1\", \n",
    "                                 is_training=is_training, \n",
    "                                 batchnorm=True, \n",
    "                                 activation=tf.nn.leaky_relu, \n",
    "                                 shuffle=True)\n",
    "        net = tf.layers.conv1d(inputs,\n",
    "                               filters=128, \n",
    "                               kernel_size=25, \n",
    "                               strides=4, \n",
    "                               padding='SAME',\n",
    "                               kernel_initializer=None,\n",
    "                               name=\"conv2\")\n",
    "        net = add_special_layers(net, \n",
    "                                 scope=\"conv2\", \n",
    "                                 is_training=is_training, \n",
    "                                 batchnorm=True, \n",
    "                                 activation=tf.nn.leaky_relu, \n",
    "                                 shuffle=True)\n",
    "        net = tf.layers.conv1d(inputs,\n",
    "                               filters=256, \n",
    "                               kernel_size=25, \n",
    "                               strides=4, \n",
    "                               padding='SAME',\n",
    "                               kernel_initializer=None,\n",
    "                               name=\"conv3\")\n",
    "        net = add_special_layers(net, \n",
    "                                 scope=\"conv3\", \n",
    "                                 is_training=is_training, \n",
    "                                 batchnorm=True, \n",
    "                                 activation=tf.nn.leaky_relu, \n",
    "                                 shuffle=True)\n",
    "        net = tf.layers.conv1d(inputs,\n",
    "                               filters=512, \n",
    "                               kernel_size=25, \n",
    "                               strides=4, \n",
    "                               padding='SAME',\n",
    "                               kernel_initializer=None,\n",
    "                               name=\"conv4\")\n",
    "        net = add_special_layers(net, \n",
    "                                 scope=\"conv4\", \n",
    "                                 is_training=is_training, \n",
    "                                 batchnorm=True, \n",
    "                                 activation=tf.nn.leaky_relu, \n",
    "                                 shuffle=True)\n",
    "        net = tf.layers.conv1d(inputs,\n",
    "                               filters=1024, \n",
    "                               kernel_size=25, \n",
    "                               strides=4, \n",
    "                               padding='SAME',\n",
    "                               kernel_initializer=None,\n",
    "                               name=\"conv5\")\n",
    "        net = add_special_layers(net, \n",
    "                                 scope=\"conv5\", \n",
    "                                 is_training=is_training, \n",
    "                                 batchnorm=True, \n",
    "                                 activation=tf.nn.leaky_relu, \n",
    "                                 shuffle=False)\n",
    "        net = tf.layers.flatten(net,name=\"flatten\")\n",
    "        net = tf.layers.dense(net, \n",
    "                              units=1,\n",
    "                              kernel_initializer=None,\n",
    "                              name=\"fc_out\")[:, 0]\n",
    "        net = tf.identity(net, name=\"Discriminator_OUTPUT\")\n",
    "        \n",
    "        return net"
   ]
  },
  {
   "cell_type": "markdown",
   "metadata": {},
   "source": [
    "Define Gan Graph"
   ]
  },
  {
   "cell_type": "code",
   "execution_count": 6,
   "metadata": {},
   "outputs": [
    {
     "name": "stdout",
     "output_type": "stream",
     "text": [
      "WARNING:tensorflow:From /home/mats/.local/lib/python3.5/site-packages/tensorflow/python/util/deprecation.py:497: calling conv1d (from tensorflow.python.ops.nn_ops) with data_format=NHWC is deprecated and will be removed in a future version.\n",
      "Instructions for updating:\n",
      "`NHWC` for data_format is deprecated, use `NWC` instead\n"
     ]
    }
   ],
   "source": [
    "tf.reset_default_graph()\n",
    "#Define problem specs\n",
    "batch_size = 64\n",
    "input_dim = 100\n",
    "\n",
    "# Create Generator input\n",
    "Gen_input = tf.random_uniform([batch_size, input_dim], minval=-1.0, maxval=1.0)\n",
    "# Feed Generator\n",
    "Generator_OUTPUT = generator(Gen_input, is_training=True)\n",
    "# Connect Generator to Distcriminator\n",
    "Discriminator_OUTPUT = discriminator(Generator_OUTPUT, is_training=True)\n"
   ]
  },
  {
   "cell_type": "markdown",
   "metadata": {},
   "source": [
    "Run training Session"
   ]
  },
  {
   "cell_type": "code",
   "execution_count": null,
   "metadata": {},
   "outputs": [],
   "source": []
  },
  {
   "cell_type": "markdown",
   "metadata": {},
   "source": [
    "Run results"
   ]
  },
  {
   "cell_type": "code",
   "execution_count": null,
   "metadata": {},
   "outputs": [],
   "source": []
  }
 ],
 "metadata": {
  "kernelspec": {
   "display_name": "Python 3",
   "language": "python",
   "name": "python3"
  },
  "language_info": {
   "codemirror_mode": {
    "name": "ipython",
    "version": 3
   },
   "file_extension": ".py",
   "mimetype": "text/x-python",
   "name": "python",
   "nbconvert_exporter": "python",
   "pygments_lexer": "ipython3",
   "version": "3.5.2"
  }
 },
 "nbformat": 4,
 "nbformat_minor": 2
}
